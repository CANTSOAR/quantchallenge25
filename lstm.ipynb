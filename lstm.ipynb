{
 "cells": [
  {
   "cell_type": "code",
   "execution_count": 1,
   "id": "1483a7a2",
   "metadata": {},
   "outputs": [],
   "source": [
    "from main import *"
   ]
  },
  {
   "cell_type": "code",
   "execution_count": null,
   "id": "c2bde857",
   "metadata": {},
   "outputs": [],
   "source": [
    "train_csv = \"./data/train.csv\"\n",
    "test_csv = \"./data/test.csv\"\n",
    "train_new_csv = \"./data/train_new.csv\"\n",
    "test_new_csv = \"./data/test_new.csv\"\n",
    "\n",
    "import pandas as pd\n",
    "\n",
    "train_data = pd.read_csv(train_csv)\n",
    "test_data = pd.read_csv(test_csv)\n",
    "train_new_data = pd.read_csv(train_new_csv)\n",
    "test_new_data = pd.read_csv(test_new_csv)\n",
    "\n"
   ]
  },
  {
   "cell_type": "code",
   "execution_count": 3,
   "id": "612fa994",
   "metadata": {},
   "outputs": [],
   "source": [
    "train_data[\"time\"] /= 100_000\n",
    "test_data[\"time\"] /= 100_000"
   ]
  },
  {
   "cell_type": "code",
   "execution_count": 4,
   "id": "2fecb271",
   "metadata": {},
   "outputs": [],
   "source": [
    "train_no_y = train_data.drop(columns = [\"Y1\", \"Y2\"])\n",
    "train_y = train_data[[\"Y1\", \"Y2\"]]"
   ]
  },
  {
   "cell_type": "code",
   "execution_count": 5,
   "id": "0bbe4048",
   "metadata": {},
   "outputs": [
    {
     "name": "stdout",
     "output_type": "stream",
     "text": [
      "Epoch 0/50, Loss: 0.7505\n",
      "Epoch 1/50, Loss: 0.7344\n",
      "Epoch 2/50, Loss: 0.7295\n",
      "Epoch 3/50, Loss: 0.7246\n",
      "Epoch 4/50, Loss: 0.7222\n",
      "Epoch 5/50, Loss: 0.7215\n",
      "Epoch 6/50, Loss: 0.7170\n",
      "Epoch 7/50, Loss: 0.7147\n",
      "Epoch 8/50, Loss: 0.7146\n",
      "Epoch 9/50, Loss: 0.7057\n",
      "Epoch 10/50, Loss: 0.7042\n",
      "Epoch 11/50, Loss: 0.7083\n",
      "Epoch 12/50, Loss: 0.7074\n",
      "Epoch 13/50, Loss: 0.7005\n",
      "Epoch 14/50, Loss: 0.6995\n",
      "Epoch 15/50, Loss: 0.6985\n",
      "Epoch 16/50, Loss: 0.6938\n",
      "Epoch 17/50, Loss: 0.6964\n",
      "Epoch 18/50, Loss: 0.7002\n",
      "Epoch 19/50, Loss: 0.6933\n",
      "Epoch 20/50, Loss: 0.6912\n",
      "Epoch 21/50, Loss: 0.6947\n",
      "Epoch 22/50, Loss: 0.6890\n",
      "Epoch 23/50, Loss: 0.6977\n",
      "Epoch 24/50, Loss: 0.6901\n",
      "Epoch 25/50, Loss: 0.6903\n",
      "Epoch 26/50, Loss: 0.6842\n",
      "Epoch 27/50, Loss: 0.6915\n",
      "Epoch 28/50, Loss: 0.6856\n",
      "Epoch 29/50, Loss: 0.6856\n",
      "Epoch 30/50, Loss: 0.6851\n",
      "Epoch 31/50, Loss: 0.6845\n",
      "Epoch 32/50, Loss: 0.6931\n",
      "Epoch 33/50, Loss: 0.6825\n",
      "Epoch 34/50, Loss: 0.6796\n",
      "Epoch 35/50, Loss: 0.6886\n",
      "Epoch 36/50, Loss: 0.6847\n",
      "Epoch 37/50, Loss: 0.6874\n",
      "Epoch 38/50, Loss: 0.6813\n",
      "Epoch 39/50, Loss: 0.6728\n",
      "Epoch 40/50, Loss: 0.6760\n",
      "Epoch 41/50, Loss: 0.6846\n",
      "Epoch 42/50, Loss: 0.6833\n",
      "Epoch 43/50, Loss: 0.6760\n",
      "Epoch 44/50, Loss: 0.6675\n",
      "Epoch 45/50, Loss: 0.6666\n",
      "Epoch 46/50, Loss: 0.6767\n",
      "Epoch 47/50, Loss: 0.6690\n",
      "Epoch 48/50, Loss: 0.6846\n",
      "Epoch 49/50, Loss: 0.6860\n"
     ]
    },
    {
     "ename": "RuntimeError",
     "evalue": "torch.cat(): expected a non-empty list of Tensors",
     "output_type": "error",
     "traceback": [
      "\u001b[31m---------------------------------------------------------------------------\u001b[39m",
      "\u001b[31mRuntimeError\u001b[39m                              Traceback (most recent call last)",
      "\u001b[36mCell\u001b[39m\u001b[36m \u001b[39m\u001b[32mIn[5]\u001b[39m\u001b[32m, line 5\u001b[39m\n\u001b[32m      1\u001b[39m lstm = LSTM(hidden_dim = \u001b[32m64\u001b[39m)\n\u001b[32m      3\u001b[39m lstm.train_model(train_data, epochs = \u001b[32m50\u001b[39m, lr = \u001b[32m1e-2\u001b[39m, lookback_steps = \u001b[32m20\u001b[39m)\n\u001b[32m----> \u001b[39m\u001b[32m5\u001b[39m pred_y = \u001b[43mlstm\u001b[49m\u001b[43m.\u001b[49m\u001b[43mpredict\u001b[49m\u001b[43m(\u001b[49m\u001b[43mtrain_data\u001b[49m\u001b[43m)\u001b[49m\n",
      "\u001b[36mFile \u001b[39m\u001b[32m~/Desktop/quantchallenge25/main.py:124\u001b[39m, in \u001b[36mLSTM.predict\u001b[39m\u001b[34m(self, data, batch_size)\u001b[39m\n\u001b[32m    121\u001b[39m     \u001b[38;5;28;01mfor\u001b[39;00m X, _ \u001b[38;5;129;01min\u001b[39;00m loader:\n\u001b[32m    122\u001b[39m         y = \u001b[38;5;28mself\u001b[39m(X)\n\u001b[32m--> \u001b[39m\u001b[32m124\u001b[39m y = \u001b[43mtorch\u001b[49m\u001b[43m.\u001b[49m\u001b[43mcat\u001b[49m\u001b[43m(\u001b[49m\u001b[43mpreds\u001b[49m\u001b[43m,\u001b[49m\u001b[43m \u001b[49m\u001b[43mdim\u001b[49m\u001b[43m \u001b[49m\u001b[43m=\u001b[49m\u001b[43m \u001b[49m\u001b[32;43m0\u001b[39;49m\u001b[43m)\u001b[49m\n\u001b[32m    126\u001b[39m \u001b[38;5;28;01mreturn\u001b[39;00m y\n",
      "\u001b[31mRuntimeError\u001b[39m: torch.cat(): expected a non-empty list of Tensors"
     ]
    }
   ],
   "source": [
    "lstm = LSTM(hidden_dim = 64)\n",
    "\n",
    "lstm.train_model(train_data, epochs = 50, lr = 1e-2, lookback_steps = 20)\n",
    "\n",
    "pred_y = lstm.predict(train_data)"
   ]
  },
  {
   "cell_type": "code",
   "execution_count": null,
   "id": "c324d19d",
   "metadata": {},
   "outputs": [
    {
     "name": "stdout",
     "output_type": "stream",
     "text": [
      "0.45127291217721255\n"
     ]
    }
   ],
   "source": [
    "from sklearn.metrics import r2_score\n",
    "\n",
    "print(r2_score(train_y.values[5:], pred_y))"
   ]
  }
 ],
 "metadata": {
  "kernelspec": {
   "display_name": ".venv (3.12.8)",
   "language": "python",
   "name": "python3"
  },
  "language_info": {
   "codemirror_mode": {
    "name": "ipython",
    "version": 3
   },
   "file_extension": ".py",
   "mimetype": "text/x-python",
   "name": "python",
   "nbconvert_exporter": "python",
   "pygments_lexer": "ipython3",
   "version": "3.12.8"
  }
 },
 "nbformat": 4,
 "nbformat_minor": 5
}
