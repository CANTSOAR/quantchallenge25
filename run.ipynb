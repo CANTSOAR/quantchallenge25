{
 "cells": [
  {
   "cell_type": "code",
   "execution_count": 1,
   "id": "7f29c8ec",
   "metadata": {},
   "outputs": [],
   "source": [
    "from main import *"
   ]
  },
  {
   "cell_type": "code",
   "execution_count": 2,
   "id": "6f3b3537",
   "metadata": {},
   "outputs": [],
   "source": [
    "train_csv = \"./data/train.csv\"\n",
    "test_csv = \"./data/test.csv\""
   ]
  },
  {
   "cell_type": "code",
   "execution_count": 4,
   "id": "7e2a4176",
   "metadata": {},
   "outputs": [
    {
     "name": "stdout",
     "output_type": "stream",
     "text": [
      "(MultiOutputRegressor(estimator=GradientBoostingRegressor(n_estimators=500)), 0.8401740828146416)\n"
     ]
    }
   ],
   "source": [
    "print(sklearn_model(train_csv, 3))"
   ]
  }
 ],
 "metadata": {
  "kernelspec": {
   "display_name": "base",
   "language": "python",
   "name": "python3"
  },
  "language_info": {
   "codemirror_mode": {
    "name": "ipython",
    "version": 3
   },
   "file_extension": ".py",
   "mimetype": "text/x-python",
   "name": "python",
   "nbconvert_exporter": "python",
   "pygments_lexer": "ipython3",
   "version": "3.11.4"
  }
 },
 "nbformat": 4,
 "nbformat_minor": 5
}
