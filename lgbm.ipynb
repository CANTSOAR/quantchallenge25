{
 "cells": [
  {
   "cell_type": "code",
   "execution_count": null,
   "id": "9c1b0bc5",
   "metadata": {},
   "outputs": [
    {
     "ename": "",
     "evalue": "",
     "output_type": "error",
     "traceback": [
      "\u001b[1;31mThe Kernel crashed while executing code in the current cell or a previous cell. \n",
      "\u001b[1;31mPlease review the code in the cell(s) to identify a possible cause of the failure. \n",
      "\u001b[1;31mClick <a href='https://aka.ms/vscodeJupyterKernelCrash'>here</a> for more info. \n",
      "\u001b[1;31mView Jupyter <a href='command:jupyter.viewOutput'>log</a> for further details."
     ]
    }
   ],
   "source": [
    "from main import *"
   ]
  },
  {
   "cell_type": "code",
   "execution_count": null,
   "id": "1e360f6e",
   "metadata": {},
   "outputs": [],
   "source": [
    "train_csv = \"./data/train.csv\"\n",
    "test_csv = \"./data/test.csv\"\n",
    "train_new_csv = \"./data/train_new.csv\"\n",
    "test_new_csv = \"./data/test_new.csv\"\n",
    "\n",
    "import pandas as pd\n",
    "\n",
    "train_data = pd.read_csv(train_csv)\n",
    "test_data = pd.read_csv(test_csv)\n",
    "train_new_data = pd.read_csv(train_new_csv)\n",
    "test_new_data = pd.read_csv(test_new_csv)\n",
    "\n",
    "train_data_new = pd.concat([train_data, train_new_data], axis = 1)\n",
    "test_data_new = pd.concat([test_data, test_new_data], axis = 1)\n",
    "\n",
    "from sklearn.experimental import enable_iterative_imputer\n",
    "from sklearn.impute import IterativeImputer\n",
    "from sklearn.pipeline import Pipeline\n",
    "from sklearn.preprocessing import StandardScaler\n",
    "from sklearn.decomposition import PCA, KernelPCA\n",
    "from sklearn.model_selection import train_test_split\n",
    "\n",
    "train_X = train_data.drop(columns = [\"Y1\", \"Y2\"])\n",
    "test_X = test_data.drop(columns = [\"id\"])\n",
    "\n",
    "train_X_new = train_data_new.drop(columns = [\"Y1\", \"Y2\"])\n",
    "test_X_new = test_data_new.drop(columns = [\"id\"])\n",
    "\n",
    "pipe = Pipeline([\n",
    "    (\"scaler\", StandardScaler()),\n",
    "    (\"pca\", KernelPCA(kernel=\"rbf\"))\n",
    "])\n",
    "\n",
    "pipe_new = Pipeline([\n",
    "    (\"imputer\", IterativeImputer(max_iter = 5)),\n",
    "    (\"scaler\", StandardScaler()),\n",
    "    (\"pca\", KernelPCA(kernel = \"rbf\"))\n",
    "])\n",
    "\n",
    "train_X = pipe.fit_transform(train_X)\n",
    "test_X = pipe.transform(test_X)\n",
    "\n",
    "train_X_new = pipe_new.fit_transform(train_X_new)\n",
    "test_X_new = pipe_new.transform(test_X_new)\n",
    "\n",
    "train_X = pd.DataFrame(train_X, columns = [f\"{i}\" for i in range(len(train_X[0]))])\n",
    "test_X = pd.DataFrame(test_X, columns = [f\"{i}\" for i in range(len(test_X[0]))])\n",
    "\n",
    "train_X_new = pd.DataFrame(train_X_new, columns = [f\"{i}\" for i in range(len(train_X_new[0]))])\n",
    "test_X_new = pd.DataFrame(test_X_new, columns = [f\"{i}\" for i in range(len(test_X_new[0]))])\n",
    "\n",
    "# train_X, val_X, train_y, val_y = train_test_split(\n",
    "#     train_X, train_data[[\"Y1\", \"Y2\"]],\n",
    "#     test_size = .2\n",
    "# )\n",
    "\n",
    "# train_X_new, val_X_new, train_y_new, val_y_new = train_test_split(\n",
    "#     train_X_new, train_data_new[[\"Y1\", \"Y2\"]],\n",
    "#     test_size = .2\n",
    "# )\n",
    "\n",
    "train_data = pd.concat([train_X, train_data[[\"Y1\", \"Y2\"]]], axis = 1)\n",
    "test_data = pd.concat([test_data[\"id\"], test_X], axis = 1)\n",
    "\n",
    "train_data_new = pd.concat([train_X_new, train_data_new[[\"Y1\", \"Y2\"]]], axis = 1)\n",
    "test_data_new = pd.concat([test_data_new[\"id\"], test_X_new], axis = 1)"
   ]
  },
  {
   "cell_type": "code",
   "execution_count": null,
   "id": "ebfab808",
   "metadata": {},
   "outputs": [
    {
     "name": "stdout",
     "output_type": "stream",
     "text": [
      "0.6391277829774683\n",
      "0.07885049499961867\n",
      "[0.64879527 0.63318229 0.71487874 0.44125953 0.65085359 0.66221906\n",
      " 0.69496637 0.67392403 0.55771874 0.7134802 ]\n"
     ]
    }
   ],
   "source": [
    "import lightgbm as lgb\n",
    "from sklearn.multioutput import MultiOutputRegressor\n",
    "from sklearn.model_selection import TimeSeriesSplit, cross_val_score\n",
    "\n",
    "lgbm = MultiOutputRegressor(\n",
    "    lgb.LGBMRegressor(\n",
    "        n_estimators=200,\n",
    "        learning_rate=.1,\n",
    "        #early_stopping_rounds=50,\n",
    "        n_jobs=1,\n",
    "        verbose=-1\n",
    "    )\n",
    ")\n",
    "\n",
    "tscv = TimeSeriesSplit(n_splits = 10)\n",
    "scores = cross_val_score(lgbm, train_X_new, train_data_new[[\"Y1\", \"Y2\"]], cv = tscv, scoring = \"r2\")\n",
    "print(scores.mean())\n",
    "print(scores.std())\n",
    "print(scores)"
   ]
  }
 ],
 "metadata": {
  "kernelspec": {
   "display_name": ".venv (3.12.8)",
   "language": "python",
   "name": "python3"
  },
  "language_info": {
   "codemirror_mode": {
    "name": "ipython",
    "version": 3
   },
   "file_extension": ".py",
   "mimetype": "text/x-python",
   "name": "python",
   "nbconvert_exporter": "python",
   "pygments_lexer": "ipython3",
   "version": "3.12.8"
  }
 },
 "nbformat": 4,
 "nbformat_minor": 5
}
